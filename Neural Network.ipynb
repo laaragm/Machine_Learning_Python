{
 "cells": [
  {
   "cell_type": "code",
   "execution_count": 11,
   "metadata": {},
   "outputs": [],
   "source": [
    "\"\"\"\n",
    "References: https://keras.io/examples/mnist_cnn/\n",
    "https://victorzhou.com/blog/keras-neural-network-tutorial/\n",
    "https://www.geeksforgeeks.org/activation-functions-neural-networks/\n",
    "https://www.tensorflow.org/tutorials/keras/classification\n",
    "https://towardsdatascience.com/writing-your-first-neural-net-in-less-than-30-lines-of-code-with-keras-18e160a35502\n",
    "\"\"\"\n",
    "\n",
    "import numpy as np #linear algebra\n",
    "import pandas as pd #data processing\n",
    "import seaborn as sns #plotting\n",
    "import matplotlib.pyplot as plt #plotting\n",
    "from keras.datasets import mnist #Handwritten Digit Classification Dataset\n",
    "from keras.models import Sequential\n",
    "from keras.layers import Dense, Softmax\n",
    "from keras.utils import to_categorical #data encoding\n",
    "import warnings\n",
    "\n",
    "warnings.filterwarnings(\"ignore\")"
   ]
  },
  {
   "cell_type": "code",
   "execution_count": 2,
   "metadata": {},
   "outputs": [
    {
     "name": "stdout",
     "output_type": "stream",
     "text": [
      "(60000, 28, 28)\n",
      "(60000,)\n"
     ]
    }
   ],
   "source": [
    "(x_train, y_train), (x_test, y_test) = mnist.load_data()\n",
    "\n",
    "print(x_train.shape)\n",
    "print(y_train.shape)\n",
    "\n",
    "#60000 represents the number of images in the training dataset\n",
    "#28, 28 represents the size of the image (pixel)"
   ]
  },
  {
   "cell_type": "code",
   "execution_count": 3,
   "metadata": {},
   "outputs": [],
   "source": [
    "#Sequential model is a linear stack of layers; we are basically initializing a sequential model\n",
    "model = Sequential() \n",
    "\n",
    "#Adding network layers(dense layers in this case)\n",
    "#A dense layer is just a regular layer of neurons in a neural network. Each neuron recieves input from all the\n",
    "#neurons in the previous layer, thus densely connected.\n",
    "#We'll flatten each 28x28 into a 784 dimensional vector, which is going to be the input to our neural network\n",
    "#Activation function decides, whether a neuron should be activated or not by calculating weighted sum and further\n",
    "#adding bias with it. The purpose of the activation function is to introduce non-linearity into the output of a \n",
    "#neuron.\n",
    "model.add(Dense(784, activation='relu', input_shape=(28*28,)))\n",
    "model.add(Dense(784, activation='relu', input_shape=(28*28,)))\n",
    "\n",
    "#Classification problem with 10 possible categories (0 to 9); the final layer has a potential output of 10 units\n",
    "model.add(Dense(10, activation='softmax'))\n",
    "\n",
    "#Compiling the model\n",
    "#Adam Optimizer (Adagrad) is an optimizer with parameter-specific learning rates, which are adapted relative \n",
    "#to how frequently a parameter gets updated during training (gradient descent)\n",
    "#categorical_crossentropy is a logarithmic loss function\n",
    "model.compile(optimizer='adam', loss='categorical_crossentropy', metrics=['accuracy'])"
   ]
  },
  {
   "cell_type": "code",
   "execution_count": 4,
   "metadata": {},
   "outputs": [
    {
     "name": "stdout",
     "output_type": "stream",
     "text": [
      "(60000, 784)\n",
      "(10000, 784)\n"
     ]
    }
   ],
   "source": [
    "#It is most common to use 32-bit precision when training a neural network, so at one point the training data will\n",
    "#have to be converted to 32 bit floats. Since the dataset fits easily in RAM, we might as well convert to float \n",
    "#immediately. Regarding the division by 255, this is the maximum value of a byte (the input feature's type before \n",
    "#the conversion to float32), so this will ensure that the input features are scaled between 0.0 and 1.0. \n",
    "x_train = x_train.reshape((60000, 28*28)) #Reshapes a tensor to the specified shape\n",
    "x_train = x_train.astype('float32')/255\n",
    "\n",
    "x_test = x_test.reshape((10000, 28*28))\n",
    "x_test = x_test.astype('float32')/255\n",
    "\n",
    "print(x_train.shape) #60000 images, 784 pixels\n",
    "print(x_test.shape) #10000 testing images, 784 pixels"
   ]
  },
  {
   "cell_type": "code",
   "execution_count": 5,
   "metadata": {},
   "outputs": [
    {
     "name": "stdout",
     "output_type": "stream",
     "text": [
      "(60000, 10)\n",
      "(10000, 10)\n"
     ]
    }
   ],
   "source": [
    "#Encoding data (it turns a number of features in numerical representations)\n",
    "#to_categorical: Converts a class vector (integers) to binary class matrix.\n",
    "y_train = to_categorical(y_train)\n",
    "y_test = to_categorical(y_test)\n",
    "\n",
    "print(y_train.shape) \n",
    "print(y_test.shape)"
   ]
  },
  {
   "cell_type": "code",
   "execution_count": 6,
   "metadata": {},
   "outputs": [
    {
     "name": "stdout",
     "output_type": "stream",
     "text": [
      "Epoch 1/5\n",
      "60000/60000 [==============================] - 34s 571us/step - loss: 0.2003 - accuracy: 0.9400\n",
      "Epoch 2/5\n",
      "60000/60000 [==============================] - 31s 523us/step - loss: 0.0739 - accuracy: 0.9766\n",
      "Epoch 3/5\n",
      "60000/60000 [==============================] - 32s 531us/step - loss: 0.0462 - accuracy: 0.9851\n",
      "Epoch 4/5\n",
      "60000/60000 [==============================] - 32s 541us/step - loss: 0.0364 - accuracy: 0.9884\n",
      "Epoch 5/5\n",
      "60000/60000 [==============================] - 32s 540us/step - loss: 0.0269 - accuracy: 0.9910\n"
     ]
    },
    {
     "data": {
      "text/plain": [
       "<keras.callbacks.callbacks.History at 0x7f8afa080d50>"
      ]
     },
     "execution_count": 6,
     "metadata": {},
     "output_type": "execute_result"
    }
   ],
   "source": [
    "#Training the model\n",
    "#fit: Trains the model for a fixed number of epochs (iterations on a dataset)\n",
    "#batch_size: Number of samples per gradient update\n",
    "model.fit(x_train, y_train, epochs=5, batch_size=128)"
   ]
  },
  {
   "cell_type": "code",
   "execution_count": 7,
   "metadata": {},
   "outputs": [
    {
     "name": "stdout",
     "output_type": "stream",
     "text": [
      "10000/10000 [==============================] - 4s 381us/step\n",
      "Test accuracy: 0.98\n",
      "Test loss: 0.07\n"
     ]
    }
   ],
   "source": [
    "test_loss, test_accuracy = model.evaluate(x_test, y_test)\n",
    "print('Test accuracy: {:.2f}'.format(test_accuracy))\n",
    "print('Test loss: {:.2f}'.format(test_loss))"
   ]
  },
  {
   "cell_type": "code",
   "execution_count": 20,
   "metadata": {},
   "outputs": [
    {
     "data": {
      "image/png": "[encoded data removed]",
      "text/plain": [
       "<Figure size 432x288 with 1 Axes>"
      ]
     },
     "metadata": {
      "needs_background": "light"
     },
     "output_type": "display_data"
    },
    {
     "name": "stdout",
     "output_type": "stream",
     "text": [
      "Predicted number: 7\n",
      "Actual number:  7\n"
     ]
    }
   ],
   "source": [
    "image_index = 0 #we're going to deal with the first image\n",
    "plt.imshow(x_test[image_index].reshape(28, 28),cmap='Greys')\n",
    "plt.show()\n",
    "\n",
    "prediction = model.predict(x_test) \n",
    "print('Predicted number: {}'.format(np.argmax(prediction[0]))) #prints the predicted number\n",
    "\n",
    "#Checking answer\n",
    "index = 0\n",
    "actual_number = 0\n",
    "for element in y_test[0]:\n",
    "    if element == 1:\n",
    "        actual_number = index\n",
    "    index += 1        \n",
    "print('Actual number: ', actual_number) #array from 0 to 9; 0: that's not our number; 1: that's our number"
   ]
  }
 ],
 "metadata": {
  "kernelspec": {
   "display_name": "Python 3",
   "language": "python",
   "name": "python3"
  },
  "language_info": {
   "codemirror_mode": {
    "name": "ipython",
    "version": 3
   },
   "file_extension": ".py",
   "mimetype": "text/x-python",
   "name": "python",
   "nbconvert_exporter": "python",
   "pygments_lexer": "ipython3",
   "version": "3.7.6"
  }
 },
 "nbformat": 4,
 "nbformat_minor": 4
}
