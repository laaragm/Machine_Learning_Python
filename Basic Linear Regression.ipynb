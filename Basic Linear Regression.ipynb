{
 "cells": [
  {
   "cell_type": "code",
   "execution_count": 78,
   "metadata": {},
   "outputs": [
    {
     "data": {
      "text/plain": [
       "array([[0.37454012, 0.95071431],\n",
       "       [0.73199394, 0.59865848],\n",
       "       [0.15601864, 0.15599452],\n",
       "       [0.05808361, 0.86617615],\n",
       "       [0.60111501, 0.70807258],\n",
       "       [0.02058449, 0.96990985],\n",
       "       [0.83244264, 0.21233911],\n",
       "       [0.18182497, 0.18340451],\n",
       "       [0.30424224, 0.52475643],\n",
       "       [0.43194502, 0.29122914],\n",
       "       [0.61185289, 0.13949386],\n",
       "       [0.29214465, 0.36636184],\n",
       "       [0.45606998, 0.78517596],\n",
       "       [0.19967378, 0.51423444],\n",
       "       [0.59241457, 0.04645041],\n",
       "       [0.60754485, 0.17052412],\n",
       "       [0.06505159, 0.94888554],\n",
       "       [0.96563203, 0.80839735],\n",
       "       [0.30461377, 0.09767211],\n",
       "       [0.68423303, 0.44015249],\n",
       "       [0.12203823, 0.49517691],\n",
       "       [0.03438852, 0.9093204 ],\n",
       "       [0.25877998, 0.66252228],\n",
       "       [0.31171108, 0.52006802],\n",
       "       [0.54671028, 0.18485446],\n",
       "       [0.96958463, 0.77513282],\n",
       "       [0.93949894, 0.89482735],\n",
       "       [0.59789998, 0.92187424],\n",
       "       [0.0884925 , 0.19598286],\n",
       "       [0.04522729, 0.32533033],\n",
       "       [0.38867729, 0.27134903],\n",
       "       [0.82873751, 0.35675333],\n",
       "       [0.28093451, 0.54269608],\n",
       "       [0.14092422, 0.80219698],\n",
       "       [0.07455064, 0.98688694],\n",
       "       [0.77224477, 0.19871568],\n",
       "       [0.00552212, 0.81546143],\n",
       "       [0.70685734, 0.72900717],\n",
       "       [0.77127035, 0.07404465],\n",
       "       [0.35846573, 0.11586906],\n",
       "       [0.86310343, 0.62329813],\n",
       "       [0.33089802, 0.06355835],\n",
       "       [0.31098232, 0.32518332],\n",
       "       [0.72960618, 0.63755747],\n",
       "       [0.88721274, 0.47221493],\n",
       "       [0.11959425, 0.71324479],\n",
       "       [0.76078505, 0.5612772 ],\n",
       "       [0.77096718, 0.4937956 ],\n",
       "       [0.52273283, 0.42754102],\n",
       "       [0.02541913, 0.10789143]])"
      ]
     },
     "execution_count": 78,
     "metadata": {},
     "output_type": "execute_result"
    }
   ],
   "source": [
    "import pandas as pd #data processing\n",
    "import numpy as np #linear algebra\n",
    "import matplotlib.pyplot as plt #plotting data\n",
    "from sklearn.linear_model import LinearRegression\n",
    "\n",
    "generate_data = np.random.RandomState(42) #exposes a number of methods for generating random numbers\n",
    "generate_data = generate_data.rand(50,2) #50 rows, 2 columns\n",
    "generate_data"
   ]
  },
  {
   "cell_type": "code",
   "execution_count": 79,
   "metadata": {},
   "outputs": [
    {
     "data": {
      "text/plain": [
       "array([0.37454012, 0.73199394, 0.15601864, 0.05808361, 0.60111501,\n",
       "       0.02058449, 0.83244264, 0.18182497, 0.30424224, 0.43194502,\n",
       "       0.61185289, 0.29214465, 0.45606998, 0.19967378, 0.59241457,\n",
       "       0.60754485, 0.06505159, 0.96563203, 0.30461377, 0.68423303,\n",
       "       0.12203823, 0.03438852, 0.25877998, 0.31171108, 0.54671028,\n",
       "       0.96958463, 0.93949894, 0.59789998, 0.0884925 , 0.04522729,\n",
       "       0.38867729, 0.82873751, 0.28093451, 0.14092422, 0.07455064,\n",
       "       0.77224477, 0.00552212, 0.70685734, 0.77127035, 0.35846573,\n",
       "       0.86310343, 0.33089802, 0.31098232, 0.72960618, 0.88721274,\n",
       "       0.11959425, 0.76078505, 0.77096718, 0.52273283, 0.02541913])"
      ]
     },
     "execution_count": 79,
     "metadata": {},
     "output_type": "execute_result"
    }
   ],
   "source": [
    "x_training = generate_data[:, 0] \n",
    "x_training"
   ]
  },
  {
   "cell_type": "code",
   "execution_count": 80,
   "metadata": {},
   "outputs": [
    {
     "data": {
      "text/plain": [
       "array([1.69979454, 2.06264637, 0.4680318 , 0.98234337, 1.9103026 ,\n",
       "       1.01107884, 1.87722439, 0.54705444, 1.13324092, 1.15511918,\n",
       "       1.36319965, 0.95065114, 1.69731593, 0.913582  , 1.23127955,\n",
       "       1.38561383, 1.07898872, 2.73966141, 0.70689965, 1.80861855,\n",
       "       0.73925338, 0.97809744, 1.18008225, 1.14349017, 1.27827501,\n",
       "       2.71430208, 2.77382523, 2.11767419, 0.37296787, 0.41578491,\n",
       "       1.04870361, 2.01422834, 1.1045651 , 1.08404543, 1.13598822,\n",
       "       1.74320522, 0.82650566, 2.14272186, 1.61658535, 0.83280052,\n",
       "       2.34950498, 0.7253544 , 0.94714797, 2.09676983, 2.24664041,\n",
       "       0.95243328, 2.08284729, 2.03572996, 1.47300668, 0.15872968])"
      ]
     },
     "execution_count": 80,
     "metadata": {},
     "output_type": "execute_result"
    }
   ],
   "source": [
    "y_training = (2*x_training)+generate_data[:, 1]\n",
    "y_training"
   ]
  },
  {
   "cell_type": "code",
   "execution_count": 81,
   "metadata": {},
   "outputs": [
    {
     "data": {
      "text/plain": [
       "<matplotlib.collections.PathCollection at 0x7fb6893ed310>"
      ]
     },
     "execution_count": 81,
     "metadata": {},
     "output_type": "execute_result"
    },
    {
     "data": {
      "image/png": "[encoded data removed]",
      "text/plain": [
       "<Figure size 432x288 with 1 Axes>"
      ]
     },
     "metadata": {
      "needs_background": "light"
     },
     "output_type": "display_data"
    }
   ],
   "source": [
    "plt.scatter(x_training, y_training)"
   ]
  },
  {
   "cell_type": "code",
   "execution_count": 82,
   "metadata": {},
   "outputs": [
    {
     "data": {
      "text/plain": [
       "LinearRegression(copy_X=True, fit_intercept=True, n_jobs=None, normalize=False)"
      ]
     },
     "execution_count": 82,
     "metadata": {},
     "output_type": "execute_result"
    }
   ],
   "source": [
    "model = LinearRegression(fit_intercept=True) #whether to calculate the intercept for this model\n",
    "model"
   ]
  },
  {
   "cell_type": "code",
   "execution_count": 83,
   "metadata": {},
   "outputs": [
    {
     "name": "stdout",
     "output_type": "stream",
     "text": [
      "[0.37454012 0.73199394 0.15601864 0.05808361 0.60111501 0.02058449\n",
      " 0.83244264 0.18182497 0.30424224 0.43194502 0.61185289 0.29214465\n",
      " 0.45606998 0.19967378 0.59241457 0.60754485 0.06505159 0.96563203\n",
      " 0.30461377 0.68423303 0.12203823 0.03438852 0.25877998 0.31171108\n",
      " 0.54671028 0.96958463 0.93949894 0.59789998 0.0884925  0.04522729\n",
      " 0.38867729 0.82873751 0.28093451 0.14092422 0.07455064 0.77224477\n",
      " 0.00552212 0.70685734 0.77127035 0.35846573 0.86310343 0.33089802\n",
      " 0.31098232 0.72960618 0.88721274 0.11959425 0.76078505 0.77096718\n",
      " 0.52273283 0.02541913]\n",
      "[[0.37454012]\n",
      " [0.73199394]\n",
      " [0.15601864]\n",
      " [0.05808361]\n",
      " [0.60111501]\n",
      " [0.02058449]\n",
      " [0.83244264]\n",
      " [0.18182497]\n",
      " [0.30424224]\n",
      " [0.43194502]\n",
      " [0.61185289]\n",
      " [0.29214465]\n",
      " [0.45606998]\n",
      " [0.19967378]\n",
      " [0.59241457]\n",
      " [0.60754485]\n",
      " [0.06505159]\n",
      " [0.96563203]\n",
      " [0.30461377]\n",
      " [0.68423303]\n",
      " [0.12203823]\n",
      " [0.03438852]\n",
      " [0.25877998]\n",
      " [0.31171108]\n",
      " [0.54671028]\n",
      " [0.96958463]\n",
      " [0.93949894]\n",
      " [0.59789998]\n",
      " [0.0884925 ]\n",
      " [0.04522729]\n",
      " [0.38867729]\n",
      " [0.82873751]\n",
      " [0.28093451]\n",
      " [0.14092422]\n",
      " [0.07455064]\n",
      " [0.77224477]\n",
      " [0.00552212]\n",
      " [0.70685734]\n",
      " [0.77127035]\n",
      " [0.35846573]\n",
      " [0.86310343]\n",
      " [0.33089802]\n",
      " [0.31098232]\n",
      " [0.72960618]\n",
      " [0.88721274]\n",
      " [0.11959425]\n",
      " [0.76078505]\n",
      " [0.77096718]\n",
      " [0.52273283]\n",
      " [0.02541913]]\n"
     ]
    }
   ],
   "source": [
    "#in order to make it work we need a two-dimensional features matrix(X)\n",
    "#and one-dimensional target array(y)\n",
    "print(x_training) #vector 'x'\n",
    "X_training = x_training[:, np.newaxis] #newaxis is used to increase the dimension of the existing array by one more dimension\n",
    "print(X_training) #50x1 matrix 'X'"
   ]
  },
  {
   "cell_type": "code",
   "execution_count": 84,
   "metadata": {},
   "outputs": [
    {
     "data": {
      "text/plain": [
       "LinearRegression(copy_X=True, fit_intercept=True, n_jobs=None, normalize=False)"
      ]
     },
     "execution_count": 84,
     "metadata": {},
     "output_type": "execute_result"
    }
   ],
   "source": [
    "model.fit(X_training, y_training) #training model"
   ]
  },
  {
   "cell_type": "code",
   "execution_count": 85,
   "metadata": {},
   "outputs": [
    {
     "data": {
      "text/plain": [
       "array([1.9179187])"
      ]
     },
     "execution_count": 85,
     "metadata": {},
     "output_type": "execute_result"
    }
   ],
   "source": [
    "model.coef_ #slope"
   ]
  },
  {
   "cell_type": "code",
   "execution_count": 86,
   "metadata": {},
   "outputs": [
    {
     "data": {
      "text/plain": [
       "0.5358193154461092"
      ]
     },
     "execution_count": 86,
     "metadata": {},
     "output_type": "execute_result"
    }
   ],
   "source": [
    "model.intercept_ #intercept"
   ]
  },
  {
   "cell_type": "code",
   "execution_count": 87,
   "metadata": {},
   "outputs": [
    {
     "name": "stdout",
     "output_type": "stream",
     "text": [
      "[-2.         -1.89795918 -1.79591837 -1.69387755 -1.59183673 -1.48979592\n",
      " -1.3877551  -1.28571429 -1.18367347 -1.08163265 -0.97959184 -0.87755102\n",
      " -0.7755102  -0.67346939 -0.57142857 -0.46938776 -0.36734694 -0.26530612\n",
      " -0.16326531 -0.06122449  0.04081633  0.14285714  0.24489796  0.34693878\n",
      "  0.44897959  0.55102041  0.65306122  0.75510204  0.85714286  0.95918367\n",
      "  1.06122449  1.16326531  1.26530612  1.36734694  1.46938776  1.57142857\n",
      "  1.67346939  1.7755102   1.87755102  1.97959184  2.08163265  2.18367347\n",
      "  2.28571429  2.3877551   2.48979592  2.59183673  2.69387755  2.79591837\n",
      "  2.89795918  3.        ]\n",
      "[[-2.        ]\n",
      " [-1.89795918]\n",
      " [-1.79591837]\n",
      " [-1.69387755]\n",
      " [-1.59183673]\n",
      " [-1.48979592]\n",
      " [-1.3877551 ]\n",
      " [-1.28571429]\n",
      " [-1.18367347]\n",
      " [-1.08163265]\n",
      " [-0.97959184]\n",
      " [-0.87755102]\n",
      " [-0.7755102 ]\n",
      " [-0.67346939]\n",
      " [-0.57142857]\n",
      " [-0.46938776]\n",
      " [-0.36734694]\n",
      " [-0.26530612]\n",
      " [-0.16326531]\n",
      " [-0.06122449]\n",
      " [ 0.04081633]\n",
      " [ 0.14285714]\n",
      " [ 0.24489796]\n",
      " [ 0.34693878]\n",
      " [ 0.44897959]\n",
      " [ 0.55102041]\n",
      " [ 0.65306122]\n",
      " [ 0.75510204]\n",
      " [ 0.85714286]\n",
      " [ 0.95918367]\n",
      " [ 1.06122449]\n",
      " [ 1.16326531]\n",
      " [ 1.26530612]\n",
      " [ 1.36734694]\n",
      " [ 1.46938776]\n",
      " [ 1.57142857]\n",
      " [ 1.67346939]\n",
      " [ 1.7755102 ]\n",
      " [ 1.87755102]\n",
      " [ 1.97959184]\n",
      " [ 2.08163265]\n",
      " [ 2.18367347]\n",
      " [ 2.28571429]\n",
      " [ 2.3877551 ]\n",
      " [ 2.48979592]\n",
      " [ 2.59183673]\n",
      " [ 2.69387755]\n",
      " [ 2.79591837]\n",
      " [ 2.89795918]\n",
      " [ 3.        ]]\n"
     ]
    }
   ],
   "source": [
    "x_test = np.linspace(-2, 3) #returns num evenly spaced samples, calculated over the interval [start, stop]\n",
    "print(x_test)\n",
    "X_test = x_test[:, np.newaxis] #increases the dimension of the existing array by one more dimension\n",
    "print(X_test)"
   ]
  },
  {
   "cell_type": "code",
   "execution_count": 88,
   "metadata": {},
   "outputs": [],
   "source": [
    "y_test = model.predict(X_test) #predicting labels for unknown data"
   ]
  },
  {
   "cell_type": "code",
   "execution_count": 89,
   "metadata": {},
   "outputs": [
    {
     "data": {
      "text/plain": [
       "[<matplotlib.lines.Line2D at 0x7fb6893f1090>]"
      ]
     },
     "execution_count": 89,
     "metadata": {},
     "output_type": "execute_result"
    },
    {
     "data": {
      "image/png": "[encoded data removed]",
      "text/plain": [
       "<Figure size 432x288 with 1 Axes>"
      ]
     },
     "metadata": {
      "needs_background": "light"
     },
     "output_type": "display_data"
    }
   ],
   "source": [
    "plt.scatter(x_training, y_training)\n",
    "plt.plot(x_test, y_test)"
   ]
  },
  {
   "cell_type": "code",
   "execution_count": null,
   "metadata": {},
   "outputs": [],
   "source": []
  }
 ],
 "metadata": {
  "kernelspec": {
   "display_name": "Python 3",
   "language": "python",
   "name": "python3"
  },
  "language_info": {
   "codemirror_mode": {
    "name": "ipython",
    "version": 3
   },
   "file_extension": ".py",
   "mimetype": "text/x-python",
   "name": "python",
   "nbconvert_exporter": "python",
   "pygments_lexer": "ipython3",
   "version": "3.7.6"
  }
 },
 "nbformat": 4,
 "nbformat_minor": 4
}
